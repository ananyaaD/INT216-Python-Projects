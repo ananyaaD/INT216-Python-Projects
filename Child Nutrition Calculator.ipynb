{
 "cells": [
  {
   "cell_type": "code",
   "execution_count": 1,
   "id": "0f350f60",
   "metadata": {},
   "outputs": [],
   "source": [
    "#taking personal details---\n",
    "\n",
    "def takePersonalInput():\n",
    "    name = input('Enter your name- ')\n",
    "    age = int(input('Enter your age(between 0 to 8 years)- '))\n",
    "    gender = input('Enter your gender- ')\n",
    "    height = float(input('Enter your height in meter- '))\n",
    "    weight = float(input('Enter your weight in kg- '))\n",
    "    return(name,age,gender,height,weight)"
   ]
  },
  {
   "cell_type": "code",
   "execution_count": 2,
   "id": "5221c325",
   "metadata": {},
   "outputs": [],
   "source": [
    "#calculating BMI---\n",
    "def calcultateBMI(weight, height):\n",
    "    BMI = weight/(height**2) \n",
    "    return BMI"
   ]
  },
  {
   "cell_type": "code",
   "execution_count": 3,
   "id": "21582438",
   "metadata": {},
   "outputs": [],
   "source": [
    "#checking health---\n",
    "def healthCheck(BMI):\n",
    "    if BMI<16:\n",
    "        health = 'severly underweight'\n",
    "    elif BMI>=16 and BMI<18.5:\n",
    "        health = 'underweight'\n",
    "    elif BMI>=18.5 and BMI<25:\n",
    "        health = 'healthy'\n",
    "    elif BMI>=25 and BMI<30:\n",
    "        health = 'overweight'\n",
    "    else:\n",
    "        health = 'obese'\n",
    "        \n",
    "    return health\n"
   ]
  },
  {
   "cell_type": "code",
   "execution_count": 4,
   "id": "df6267f6",
   "metadata": {},
   "outputs": [],
   "source": [
    "#taking calorie intake input---\n",
    "def calorieIntake():\n",
    "    milk_taken = int(input('Enter the amount of milk consumed(in g)- '))\n",
    "    eggs_taken = int(input('Enter the amount of eggs consumed(in g)- '))\n",
    "    rice_taken = int(input('Enter the amount of rice consumed(in g)- '))\n",
    "    lentils_taken = int(input('Enter the amount of lentils consumed(in g)- '))\n",
    "    vegetables_taken = int(input('Enter the amount of vegetables consumed(in g)- '))\n",
    "    meat_taken = int(input('Enter the amount of meat consumed(in g)- '))\n",
    "    \n",
    "    return (milk_taken, eggs_taken, rice_taken,lentils_taken, vegetables_taken, meat_taken)\n",
    "\n",
    "#calculting the total calorie intake---\n",
    "def totalCals(milk_taken, eggs_taken, rice_taken,lentils_taken, vegetables_taken, meat_taken):\n",
    "    milk = 1*milk_taken\n",
    "    egg = 1.55*eggs_taken\n",
    "    rice = 1.30*rice_taken\n",
    "    lentils = 1.13*lentils_taken\n",
    "    vegetables = 0.85*vegetables_taken\n",
    "    meat = 1.43*meat_taken\n",
    "    \n",
    "    totalCal =  milk+egg+rice+lentils+vegetables+meat\n",
    "    return totalCal"
   ]
  },
  {
   "cell_type": "code",
   "execution_count": 5,
   "id": "e0ed67f8",
   "metadata": {},
   "outputs": [],
   "source": [
    "#checking if the child is nourished or undernourished---\n",
    "def checkNourishment(age, totalCals):\n",
    "    if age>=0 and age<2:\n",
    "        if totalCals>=800:\n",
    "            nourishment = 'not undernourished'\n",
    "        else:\n",
    "            nourishment = 'undernourished'\n",
    "    elif age>=2 and age<4:\n",
    "        if totalCals>= 1400:\n",
    "            nourishment = 'not undernourished'\n",
    "        else:\n",
    "            nourishment = 'undernourished'\n",
    "    else:\n",
    "        if totalCals>=1800:\n",
    "            nourishment = 'not undernourished'\n",
    "        else:\n",
    "            nourishment = 'undernourished'\n",
    "            \n",
    "    \n",
    "    return nourishment"
   ]
  },
  {
   "cell_type": "code",
   "execution_count": 6,
   "id": "d2700432",
   "metadata": {},
   "outputs": [
    {
     "name": "stdout",
     "output_type": "stream",
     "text": [
      "Enter your name- Peter Parker\n",
      "Enter your age(between 0 to 8 years)- 7\n",
      "Enter your gender- m\n",
      "Enter your height in meter- 1.143\n",
      "Enter your weight in kg- 27.21\n",
      "\n",
      "Enter the amount of milk consumed(in g)- 300\n",
      "Enter the amount of eggs consumed(in g)- 300\n",
      "Enter the amount of rice consumed(in g)- 300\n",
      "Enter the amount of lentils consumed(in g)- 100\n",
      "Enter the amount of vegetables consumed(in g)- 300\n",
      "Enter the amount of meat consumed(in g)- 200\n",
      "\n",
      "BMI of Peter Parker is 20.83 and he is healthy.\n",
      "The daily calorie consumption of Peter Parker is 1809.00 and he is not undernourished.\n"
     ]
    }
   ],
   "source": [
    "#driver code ---\n",
    "\n",
    "name, age, gender, height, weight = takePersonalInput()\n",
    "\n",
    "BMI = calcultateBMI(weight, height)\n",
    "\n",
    "health = healthCheck(BMI)\n",
    "print()\n",
    "milk, eggs, rice, lentils, vegetables, meat = calorieIntake()\n",
    "totalCals = totalCals(milk, eggs, rice,lentils, vegetables, meat)\n",
    "\n",
    "nourishment = checkNourishment(age, totalCals)\n",
    "\n",
    "if gender.lower()=='m':\n",
    "    print()\n",
    "    print('BMI of '+ name+' is '+ \"{:.2f}\".format(BMI)+' and he is '+ health+\".\")\n",
    "    print('The daily calorie consumption of '+name+' is '+ \"{:.2f}\".format(totalCals)+' and he is '+ nourishment+'.')\n",
    "elif gender.lower()=='f':\n",
    "    print()\n",
    "    print('BMI of '+ name+' is '+ \"{:.2f}\".format(BMI)+' and she is '+ health+\".\")\n",
    "    print('The daily calorie consumption of '+name+' is '+ \"{:.2f}\".format(totalCals)+' and she is '+ nourishment+'.')\n",
    "else:\n",
    "    print()\n",
    "    print('BMI of '+ name+' is '+ \"{:.2f}\".format(BMI)+' and he/she is '+ health+\".\")\n",
    "    print('The daily calorie consumption of '+name+' is '+ \"{:.2f}\".format(totalCals)+' and he/she is '+ nourishment+'.')\n",
    "    \n"
   ]
  },
  {
   "cell_type": "code",
   "execution_count": null,
   "id": "5690ec5b",
   "metadata": {},
   "outputs": [],
   "source": []
  }
 ],
 "metadata": {
  "kernelspec": {
   "display_name": "Python 3",
   "language": "python",
   "name": "python3"
  },
  "language_info": {
   "codemirror_mode": {
    "name": "ipython",
    "version": 3
   },
   "file_extension": ".py",
   "mimetype": "text/x-python",
   "name": "python",
   "nbconvert_exporter": "python",
   "pygments_lexer": "ipython3",
   "version": "3.8.8"
  }
 },
 "nbformat": 4,
 "nbformat_minor": 5
}
