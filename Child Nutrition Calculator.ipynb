{
 "cells": [
  {
   "cell_type": "code",
   "execution_count": 1,
   "id": "0f350f60",
   "metadata": {},
   "outputs": [
    {
     "name": "stdout",
     "output_type": "stream",
     "text": [
      "Enter your name- peter parker\n",
      "Enter your age(between 0 to 8 years)- 7\n",
      "Enter your gender- m\n",
      "Enter your height in meter- 1.56\n",
      "Enter your weight in kg- 48\n"
     ]
    }
   ],
   "source": [
    "name = input('Enter your name- ')\n",
    "age = int(input('Enter your age(between 0 to 8 years)- '))\n",
    "gender = input('Enter your gender- ')\n",
    "height = float(input('Enter your height in meter- '))\n",
    "weight = float(input('Enter your weight in kg- '))"
   ]
  },
  {
   "cell_type": "code",
   "execution_count": 2,
   "id": "21582438",
   "metadata": {},
   "outputs": [
    {
     "name": "stdout",
     "output_type": "stream",
     "text": [
      "healthy\n"
     ]
    }
   ],
   "source": [
    "#calculating BMI of the person---\n",
    "\n",
    "BMI = weight/(height**2) \n",
    "\n",
    "if BMI<16:\n",
    "    health = 'severly underweight'\n",
    "elif BMI>=16 and BMI<18.5:\n",
    "    health = 'underweight'\n",
    "elif BMI>=18.5 and BMI<25:\n",
    "    health = 'healthy'\n",
    "elif BMI>=25 and BMI<30:\n",
    "    health = 'overweight'\n",
    "else:\n",
    "    health = 'obese'\n",
    "\n",
    "print(health)"
   ]
  },
  {
   "cell_type": "code",
   "execution_count": 3,
   "id": "df6267f6",
   "metadata": {},
   "outputs": [
    {
     "name": "stdout",
     "output_type": "stream",
     "text": [
      "Enter the amount of milk consumed(in g)- 300\n",
      "Enter the amount of eggs consumed(in g)- 300\n",
      "Enter the amount of rice consumed(in g)- 300\n",
      "Enter the amount of lentils consumed(in g)- 100\n",
      "Enter the amount of vegetables consumed(in g)- 300\n",
      "Enter the amount of meat consumed(in g)- 200\n"
     ]
    }
   ],
   "source": [
    "#calories in 1 gram of these items---\n",
    "\n",
    "milk = 1\n",
    "egg = 1.55\n",
    "rice = 1.30\n",
    "lentils = 1.13\n",
    "vegetables = 0.85\n",
    "meat = 1.43\n",
    "\n",
    "#taking input for the calorie consumption---\n",
    "\n",
    "milk_taken = int(input('Enter the amount of milk consumed(in g)- '))\n",
    "eggs_taken = int(input('Enter the amount of eggs consumed(in g)- '))\n",
    "rice_taken = int(input('Enter the amount of rice consumed(in g)- '))\n",
    "lentils_taken = int(input('Enter the amount of lentils consumed(in g)- '))\n",
    "vegetables_taken = int(input('Enter the amount of vegetables consumed(in g)- '))\n",
    "meat_taken = int(input('Enter the amount of meat consumed(in g)- '))\n",
    "\n",
    "#calculating the total calories consumed---\n",
    "\n",
    "totalCals = milk_taken*milk + eggs_taken*egg + rice_taken*rice + lentils_taken*lentils + vegetables_taken*vegetables + meat_taken*meat\n",
    "\n"
   ]
  },
  {
   "cell_type": "code",
   "execution_count": 4,
   "id": "e0ed67f8",
   "metadata": {},
   "outputs": [],
   "source": [
    "if age>=0 and age<2:\n",
    "    if totalCals>=800:\n",
    "        nourishment = 'not undernourished'\n",
    "    else:\n",
    "        nourishment = 'undernourished'\n",
    "elif age>=2 and age<4:\n",
    "    if totalCals>= 1400:\n",
    "        nourishment = 'not undernourished'\n",
    "    else:\n",
    "        nourishment = 'undernourished'\n",
    "else:\n",
    "    if totalCals>=1800:\n",
    "        nourishment = 'not undernourished'\n",
    "    else:\n",
    "        nourishment = 'undernourished'"
   ]
  },
  {
   "cell_type": "code",
   "execution_count": 6,
   "id": "d2700432",
   "metadata": {},
   "outputs": [
    {
     "name": "stdout",
     "output_type": "stream",
     "text": [
      "BMI of peter parker is 19.72 and he is healthy.\n",
      "The daily calorie consumption of peter parker is1809.0 and he is not undernourished.\n"
     ]
    }
   ],
   "source": [
    "if gender.lower()=='m':\n",
    "    print('BMI of '+ name+' is '+ \"{:.2f}\".format(BMI)+' and he is '+ health+\".\")\n",
    "    print('The daily calorie consumption of '+name+' is '+ str(totalCals)+' and he is '+ nourishment+'.')\n",
    "elif gender.lower()=='f':\n",
    "    print('BMI of '+ name+' is '+ \"{:.2f}\".format(BMI)+' and she is '+ health+\".\")\n",
    "    print('The daily calorie consumption of '+name+' is '+ str(totalCals)+' and she is '+ nourishment+'.')\n",
    "else:\n",
    "    print('BMI of '+ name+' is '+ \"{:.2f}\".format(BMI)+' and he/she is '+ health+\".\")\n",
    "    print('The daily calorie consumption of '+name+' is '+ str(totalCals)+' and he/she is '+ nourishment+'.')\n",
    "    \n"
   ]
  },
  {
   "cell_type": "code",
   "execution_count": null,
   "id": "5690ec5b",
   "metadata": {},
   "outputs": [],
   "source": []
  }
 ],
 "metadata": {
  "kernelspec": {
   "display_name": "Python 3",
   "language": "python",
   "name": "python3"
  },
  "language_info": {
   "codemirror_mode": {
    "name": "ipython",
    "version": 3
   },
   "file_extension": ".py",
   "mimetype": "text/x-python",
   "name": "python",
   "nbconvert_exporter": "python",
   "pygments_lexer": "ipython3",
   "version": "3.8.8"
  }
 },
 "nbformat": 4,
 "nbformat_minor": 5
}
